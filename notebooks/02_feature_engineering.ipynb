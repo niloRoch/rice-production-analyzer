{
 "cells": [
  {
   "cell_type": "code",
   "execution_count": null,
   "id": "58d3cb6f",
   "metadata": {
    "vscode": {
     "languageId": "plaintext"
    }
   },
   "outputs": [],
   "source": [
    "# ===============================================================================\n",
    "# 2. ENGENHARIA DE FEATURES\n",
    "# ===============================================================================\n",
    "\n",
    "def feature_engineering(df):\n",
    "    \"\"\"Cria novas features relevantes para agricultura\"\"\"\n",
    "    \n",
    "    print(\"\\n🔧 ENGENHARIA DE FEATURES\")\n",
    "    print(\"=\"*40)\n",
    "    \n",
    "    df_fe = df.copy()\n",
    "    \n",
    "    # 1. Features de Nutrientes\n",
    "    print(\"📊 Criando features de nutrientes...\")\n",
    "    df_fe['NPK_Total'] = df_fe['Nitrogen'] + df_fe['POTASH'] + df_fe['PHOSPHATE']\n",
    "    df_fe['N_P_Ratio'] = df_fe['Nitrogen'] / (df_fe['PHOSPHATE'] + 1)  # +1 para evitar divisão por 0\n",
    "    df_fe['N_K_Ratio'] = df_fe['Nitrogen'] / (df_fe['POTASH'] + 1)\n",
    "    df_fe['P_K_Ratio'] = df_fe['PHOSPHATE'] / (df_fe['POTASH'] + 1)\n",
    "    \n",
    "    # 2. Features Hídricas\n",
    "    print(\"💧 Criando features hídricas...\")\n",
    "    df_fe['Water_Efficiency'] = df_fe['RICE_PRODUCTION'] / (df_fe['ANNUAL'] + 1)\n",
    "    df_fe['Rain_Intensity'] = df_fe['avg_rain'] / (df_fe['ANNUAL'] / 365)  # chuva diária média\n",
    "    \n",
    "    # 3. Índice de Fertilidade\n",
    "    print(\"🌱 Criando índice de fertilidade...\")\n",
    "    # Normalizar nutrientes para criar índice\n",
    "    scaler_temp = StandardScaler()\n",
    "    nutrients_normalized = scaler_temp.fit_transform(df_fe[['Nitrogen', 'POTASH', 'PHOSPHATE']])\n",
    "    df_fe['Fertility_Index'] = np.mean(nutrients_normalized, axis=1)\n",
    "    \n",
    "    # 4. Tipo de Solo Dominante\n",
    "    print(\"🏞️ Identificando solo dominante...\")\n",
    "    soil_cols = [col for col in df_fe.columns if col not in ['ANNUAL', 'avg_rain', 'Nitrogen', \n",
    "                                                            'POTASH', 'PHOSPHATE', 'RICE_PRODUCTION']]\n",
    "    \n",
    "    # Encontrar solo com maior proporção\n",
    "    df_fe['Dominant_Soil'] = df_fe[soil_cols].idxmax(axis=1)\n",
    "    df_fe['Soil_Diversity'] = (df_fe[soil_cols] > 0).sum(axis=1)  # Número de tipos de solo presentes\n",
    "    \n",
    "    # 5. Interações importantes\n",
    "    print(\"🔗 Criando interações...\")\n",
    "    df_fe['Nitrogen_x_Rain'] = df_fe['Nitrogen'] * df_fe['avg_rain']\n",
    "    df_fe['NPK_x_Water'] = df_fe['NPK_Total'] * df_fe['avg_rain']\n",
    "    \n",
    "    print(f\"✅ Features criadas! Shape anterior: {df.shape}, nova: {df_fe.shape}\")\n",
    "    \n",
    "    return df_fe\n"
   ]
  }
 ],
 "metadata": {
  "language_info": {
   "name": "python"
  }
 },
 "nbformat": 4,
 "nbformat_minor": 5
}
