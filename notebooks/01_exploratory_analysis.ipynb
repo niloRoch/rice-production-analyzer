{
 "cells": [
  {
   "cell_type": "code",
   "execution_count": null,
   "id": "1ea030e4",
   "metadata": {
    "vscode": {
     "languageId": "plaintext"
    }
   },
   "outputs": [],
   "source": [
    "# ===============================================================================\n",
    "# 1. CARREGAMENTO E EXPLORAÇÃO INICIAL DOS DADOS\n",
    "# ===============================================================================\n",
    "\n",
    "def load_and_explore_data(file_path):\n",
    "    \"\"\"Carrega e faz exploração inicial dos dados\"\"\"\n",
    "    \n",
    "    print(\"=\"*60)\n",
    "    print(\"🌾 ANÁLISE DE PRODUÇÃO DE ARROZ\")\n",
    "    print(\"=\"*60)\n",
    "    \n",
    "    # Carregamento\n",
    "    try:\n",
    "        df = pd.read_csv(file_path)\n",
    "        print(f\"✅ Dados carregados com sucesso!\")\n",
    "        print(f\"📊 Shape: {df.shape}\")\n",
    "    except Exception as e:\n",
    "        print(f\"❌ Erro ao carregar dados: {e}\")\n",
    "        return None\n",
    "    \n",
    "    # Informações básicas\n",
    "    print(\"\\n📋 INFORMAÇÕES BÁSICAS:\")\n",
    "    print(\"-\" * 40)\n",
    "    print(df.info())\n",
    "    \n",
    "    print(\"\\n📊 ESTATÍSTICAS DESCRITIVAS:\")\n",
    "    print(\"-\" * 40)\n",
    "    print(df.describe())\n",
    "    \n",
    "    print(\"\\n🔍 PRIMEIRAS 5 LINHAS:\")\n",
    "    print(\"-\" * 40)\n",
    "    print(df.head())\n",
    "    \n",
    "    print(\"\\n❌ VALORES NULOS:\")\n",
    "    print(\"-\" * 40)\n",
    "    print(df.isnull().sum())\n",
    "    \n",
    "    return df"
   ]
  }
 ],
 "metadata": {
  "language_info": {
   "name": "python"
  }
 },
 "nbformat": 4,
 "nbformat_minor": 5
}
