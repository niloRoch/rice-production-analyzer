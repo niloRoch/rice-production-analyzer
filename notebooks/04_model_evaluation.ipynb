{
 "cells": [
  {
   "cell_type": "code",
   "execution_count": null,
   "id": "ff10f0cc",
   "metadata": {
    "vscode": {
     "languageId": "plaintext"
    }
   },
   "outputs": [],
   "source": [
    "# ===============================================================================\n",
    "# 7. INTERPRETABILIDADE COM SHAP\n",
    "# ===============================================================================\n",
    "\n",
    "def interpret_model(best_model, X_train, X_test, feature_names):\n",
    "    \"\"\"Análise de interpretabilidade usando SHAP\"\"\"\n",
    "    \n",
    "    print(\"\\n🔍 ANÁLISE DE INTERPRETABILIDADE\")\n",
    "    print(\"=\"*40)\n",
    "    \n",
    "    try:\n",
    "        # Criar explainer SHAP\n",
    "        if hasattr(best_model, 'predict'):\n",
    "            explainer = shap.Explainer(best_model, X_train)\n",
    "            shap_values = explainer(X_test)\n",
    "        \n",
    "        # Summary plot\n",
    "        plt.figure(figsize=(10, 8))\n",
    "        shap.summary_plot(shap_values, X_test, feature_names=feature_names, show=False)\n",
    "        plt.title('SHAP Summary Plot - Importância das Features')\n",
    "        plt.tight_layout()\n",
    "        plt.show()\n",
    "        \n",
    "        # Feature importance\n",
    "        feature_importance = np.abs(shap_values.values).mean(0)\n",
    "        importance_df = pd.DataFrame({\n",
    "            'Feature': feature_names,\n",
    "            'Importance': feature_importance\n",
    "        }).sort_values('Importance', ascending=False)\n",
    "        \n",
    "        # Plotar importância\n",
    "        fig = px.bar(importance_df.head(10), x='Importance', y='Feature', \n",
    "                    orientation='h', title='Top 10 Features Mais Importantes')\n",
    "        fig.show()\n",
    "        \n",
    "        print(\"✅ Análise de interpretabilidade concluída!\")\n",
    "        return importance_df\n",
    "        \n",
    "    except Exception as e:\n",
    "        print(f\"⚠️  Erro na interpretabilidade: {e}\")\n",
    "        return None"
   ]
  }
 ],
 "metadata": {
  "language_info": {
   "name": "python"
  }
 },
 "nbformat": 4,
 "nbformat_minor": 5
}
